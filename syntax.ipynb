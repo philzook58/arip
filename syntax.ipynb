{
 "cells": [
  {
   "cell_type": "markdown",
   "metadata": {},
   "source": [
    "# Syntax \n",
    "\n",
    "## Syntax Trees\n",
    "Mathematics and logic have grown naturally. We represent mathematical objects in written communication using symbols\n",
    "\n",
    "$$ 2 + 2 = 4 $$\n",
    "$$ ax**2 + bx + c = 0$$\n",
    "$$ e^{i\\pi} + 1 = 0 $$\n",
    "$$ \\int_{0}^{\\infty} e^{-x^2} dx = \\frac{\\sqrt{\\pi}}{2} $$\n",
    "$$ \\forall x \\in \\mathbb{R}, x^2 \\geq 0 $$\n",
    "\n",
    "Somehow these need to go into a computer. Actually, when I wrote these, I used a notation called LaTeX.\n",
    "\n",
    "There are multiple approaches to how to handle this prpblem\n",
    "\n",
    "One standard model is that text files are a sequence of characters.\n",
    "\n",
    "A different standard model is that these sequences ought ot be parseable into syntax trees.\n",
    "\n",
    "A node in syntax tree has a label and 0 or more children nodes.\n",
    "\n",
    "A useful simple model is to consider just arithmetic expressions like $2 + x + y$. This domain is called Hutton's razor and it can already reveal a lot about syntax.\n",
    "\n",
    "There are also different approaches on how to map the informal notion of a syntax tree onto the facilities your programming environment offers.\n",
    "\n",
    "```{note}\n",
    "Here is a note\n",
    "```\n"
   ]
  },
  {
   "cell_type": "code",
   "execution_count": 1,
   "metadata": {},
   "outputs": [
    {
     "data": {
      "text/plain": [
       "('+', ('num', 3), ('var', 'x'))"
      ]
     },
     "execution_count": 1,
     "metadata": {},
     "output_type": "execute_result"
    }
   ],
   "source": [
    "(\"+\", (\"num\", 3), (\"var\", \"x\"))"
   ]
  },
  {
   "cell_type": "code",
   "execution_count": 2,
   "metadata": {},
   "outputs": [
    {
     "data": {
      "text/plain": [
       "add(left=num(value=3), right=var(name='x'))"
      ]
     },
     "execution_count": 2,
     "metadata": {},
     "output_type": "execute_result"
    }
   ],
   "source": [
    "from typing import NamedTuple\n",
    "add = NamedTuple(\"add\", [(\"left\", \"Expr\"), (\"right\", \"Expr\")])\n",
    "num = NamedTuple(\"num\", [(\"value\", int)])\n",
    "var = NamedTuple(\"var\", [(\"name\", str)])\n",
    "\n",
    "add(num(3), var(\"x\"))"
   ]
  },
  {
   "cell_type": "markdown",
   "metadata": {},
   "source": [
    "A generic representation."
   ]
  },
  {
   "cell_type": "code",
   "execution_count": null,
   "metadata": {},
   "outputs": [],
   "source": [
    "Fn = NamedTuple(\"Fn\", [(\"name\", str), (\"args\", list[\"Fn\"])])"
   ]
  },
  {
   "cell_type": "markdown",
   "metadata": {},
   "source": [
    "You can see how this relates to both the standard sympy and z3 representations.\n"
   ]
  },
  {
   "cell_type": "code",
   "execution_count": 9,
   "metadata": {},
   "outputs": [
    {
     "data": {
      "text/plain": [
       "(3, x)"
      ]
     },
     "execution_count": 9,
     "metadata": {},
     "output_type": "execute_result"
    }
   ],
   "source": [
    "from sympy import *\n",
    "x = symbols(\"x\")\n",
    "(x + 3).func # gets the function symbol\n",
    "(x + 3).args # gets the children"
   ]
  },
  {
   "cell_type": "code",
   "execution_count": 8,
   "metadata": {},
   "outputs": [
    {
     "data": {
      "text/plain": [
       "[x, 3]"
      ]
     },
     "execution_count": 8,
     "metadata": {},
     "output_type": "execute_result"
    }
   ],
   "source": [
    "from z3 import *\n",
    "x = Int(\"x\")\n",
    "(x + 3).decl() # decl gets the function symbol\n",
    "(x + 3).children() # children gets the arguments"
   ]
  },
  {
   "cell_type": "markdown",
   "metadata": {},
   "source": [
    "In C a common approach is to use tagged unions.\n",
    "\n",
    "A different approach is to have the children have a pointer up their to parent. This still represents a tree. Whether the operations you wish to perform are ergonomic or efficient is another story.\n",
    " "
   ]
  },
  {
   "cell_type": "code",
   "execution_count": null,
   "metadata": {},
   "outputs": [],
   "source": []
  },
  {
   "cell_type": "markdown",
   "metadata": {},
   "source": [
    "## Substitution\n",
    "\n",
    "\n",
    "## Pattern Matching\n",
    "\n",
    "## Rewriting\n",
    "\n",
    "\n",
    "## More Exotic Stuff\n",
    "\n",
    "### Unification\n",
    "\n",
    "### Binders\n",
    "\n"
   ]
  }
 ],
 "metadata": {
  "kernelspec": {
   "display_name": "Python 3",
   "language": "python",
   "name": "python3"
  },
  "language_info": {
   "codemirror_mode": {
    "name": "ipython",
    "version": 3
   },
   "file_extension": ".py",
   "mimetype": "text/x-python",
   "name": "python",
   "nbconvert_exporter": "python",
   "pygments_lexer": "ipython3",
   "version": "3.10.12"
  }
 },
 "nbformat": 4,
 "nbformat_minor": 2
}
