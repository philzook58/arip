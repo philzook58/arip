{
 "cells": [
  {
   "cell_type": "markdown",
   "metadata": {},
   "source": [
    "SAT solvers are a very effective black box solver for finite combinatorial problems. In a sense, they enable us to run digital circuits backwards, seeking inputs that would drive them to output true.\n",
    "\n",
    "This is in some respects an arbitrary problem, as NP-complete can be encoded into one another. SAT has very simple structure that is amenable to fast and uniform data structures. It also has interconnections to the theory of logic.\n",
    "\n",
    "\n",
    "\n",
    "\n",
    "\n",
    "\n"
   ]
  },
  {
   "cell_type": "markdown",
   "metadata": {},
   "source": [
    "# Brute Force\n",
    "\n",
    "There is nothing at all mysterious about the solvability of the SAT problem itself. It is obviously solvable by brute force enumeration of the possibilities.\n",
    "\n",
    "It is useful to examine the obvious.\n"
   ]
  },
  {
   "cell_type": "markdown",
   "metadata": {},
   "source": [
    "# Davis Putnam\n"
   ]
  },
  {
   "cell_type": "markdown",
   "metadata": {},
   "source": [
    "# DPLL\n"
   ]
  },
  {
   "cell_type": "markdown",
   "metadata": {},
   "source": [
    "# CDCL"
   ]
  },
  {
   "cell_type": "markdown",
   "metadata": {},
   "source": [
    "# Using SAT Solvers\n"
   ]
  },
  {
   "cell_type": "markdown",
   "metadata": {},
   "source": [
    "# Bits and Bobbles"
   ]
  }
 ],
 "metadata": {
  "language_info": {
   "name": "python"
  }
 },
 "nbformat": 4,
 "nbformat_minor": 2
}
